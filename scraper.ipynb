{
 "cells": [
  {
   "cell_type": "markdown",
   "metadata": {},
   "source": [
    "# Notebook Scope\n",
    "\n",
    "This notebook is designed to compile a comprehensive list of celebrities and collect their facial images by scraping their Wikipedia pages. \n",
    "\n",
    "The process is structured as follows:\n",
    "\n",
    "### Step 1: Compilation of Celebrity Names\n",
    "- We began by exploring various websites and CSV files, which provided lists of celebrities from around the world.\n",
    "- A unique list of celebrity names was curated from these sources.\n",
    "\n",
    "### Step 2: Image Scraping\n",
    "- We developed a scraper to search each celebrity's name.\n",
    "- The scraper was programmed to locate and download the Wikipedia thumbnail image of the celebrity.\n",
    "- These images were stored in a designated 'images' folder within the project.\n",
    "\n",
    "### Outcome\n",
    "- The successful execution of this scraping project led to the accumulation of over 1,000 celebrity images.\n",
    "- These images will be utilized in the main project aiming to identify the celebrity that most closely resembles the input image.\n"
   ]
  },
  {
   "cell_type": "code",
   "execution_count": 1,
   "metadata": {},
   "outputs": [],
   "source": [
    "import requests\n",
    "from bs4 import BeautifulSoup\n",
    "from urllib.request import urlretrieve\n",
    "import os\n",
    "from urllib.parse import urljoin\n",
    "import pandas as pd\n",
    "from tqdm import tqdm as ProgressBar\n",
    "import random\n",
    "import time"
   ]
  },
  {
   "cell_type": "code",
   "execution_count": 1,
   "metadata": {},
   "outputs": [],
   "source": [
    "all_names = set()"
   ]
  },
  {
   "attachments": {},
   "cell_type": "markdown",
   "metadata": {},
   "source": [
    "## Top 100 Greatest Hollywood Actors of All Time (Dataset)"
   ]
  },
  {
   "cell_type": "code",
   "execution_count": 45,
   "metadata": {},
   "outputs": [],
   "source": [
    "actors = pd.read_csv('Top 100 Greatest Hollywood Actors of All Time.csv')['Name'].to_list()\n",
    "\n",
    "all_names.update(actors)"
   ]
  },
  {
   "attachments": {},
   "cell_type": "markdown",
   "metadata": {},
   "source": [
    "## 100 MOST POPULAR CELEBRITIES IN THE WORLD"
   ]
  },
  {
   "cell_type": "code",
   "execution_count": 34,
   "metadata": {},
   "outputs": [],
   "source": [
    "html_text = requests.get('https://www.imdb.com/list/ls052283250/').text\n",
    "soup = BeautifulSoup(html_text, 'html.parser')\n",
    "\n",
    "res = soup.find_all('h3', class_='lister-item-header')\n",
    "\n",
    "celebrities = [r.find('a').text.strip().replace('\\n', '') for r in res]\n",
    "all_names.update(celebrities)"
   ]
  },
  {
   "attachments": {},
   "cell_type": "markdown",
   "metadata": {},
   "source": [
    "## Top 1000 Actors and Actresses"
   ]
  },
  {
   "cell_type": "code",
   "execution_count": 35,
   "metadata": {},
   "outputs": [
    {
     "name": "stderr",
     "output_type": "stream",
     "text": [
      "100%|██████████| 10/10 [00:40<00:00,  4.00s/it]\n"
     ]
    }
   ],
   "source": [
    "for x in ProgressBar(range(1, 11)):\n",
    "    url = f'https://www.imdb.com/list/ls058011111/?sort=list_order,asc&mode=detail&page={x}'\n",
    "    html_text = requests.get(url).text\n",
    "    soup = BeautifulSoup(html_text, 'html.parser')\n",
    "\n",
    "    res = soup.find_all('h3', class_='lister-item-header')\n",
    "\n",
    "    celebrities = [r.find('a').text.strip().replace('\\n', '') for r in res]\n",
    "    all_names.update(celebrities)"
   ]
  },
  {
   "attachments": {},
   "cell_type": "markdown",
   "metadata": {},
   "source": [
    "## 100 famous people"
   ]
  },
  {
   "cell_type": "code",
   "execution_count": 84,
   "metadata": {},
   "outputs": [],
   "source": [
    "url = 'https://www.biographyonline.net/people/famous-100.html#google_vignette'\n",
    "\n",
    "response = requests.get(url)\n",
    "soup = BeautifulSoup(response.text, 'html.parser')\n",
    "\n",
    "section = soup.find('section', {'class': 'post-content clearfix'})\n",
    "names = section.find_all('li')\n",
    "names = [name.find('a').text if name.find('a') is not None else name.text for name in names]\n",
    "name = [name.split('(')[0].strip() for name in names][:130]\n",
    "all_names.update(name)"
   ]
  },
  {
   "attachments": {},
   "cell_type": "markdown",
   "metadata": {},
   "source": [
    "## Another Dataset"
   ]
  },
  {
   "cell_type": "code",
   "execution_count": 87,
   "metadata": {},
   "outputs": [],
   "source": [
    "nomi = pd.read_csv('nomi_famosi.csv')['Nomi'].to_list()\n",
    "all_names.update(nomi)"
   ]
  },
  {
   "attachments": {},
   "cell_type": "markdown",
   "metadata": {},
   "source": [
    "## Image Scraping from Wikipedia"
   ]
  },
  {
   "cell_type": "code",
   "execution_count": 88,
   "metadata": {},
   "outputs": [],
   "source": [
    "def download_wikipedia_images(url, save_path, person_name):\n",
    "    response = requests.get(url)\n",
    "    if response.status_code == 200:\n",
    "        soup = BeautifulSoup(response.text, 'html.parser')\n",
    "        os.makedirs(save_path, exist_ok=True)\n",
    "        try:\n",
    "            img_tag = soup.find_all('figure', attrs={'typeof':'mw:File/Thumb'})[0].find_all('img')[0]\n",
    "            img_url = img_tag.get('src')\n",
    "        except:\n",
    "            print(f\"Failed to retrieve the image. Page: {url}\")\n",
    "            return\n",
    "        if img_url:\n",
    "            img_url = urljoin(url, img_url)\n",
    "            img_path = os.path.join(save_path, person_name + '.jpg')\n",
    "            urlretrieve(img_url, img_path)\n",
    "    else:\n",
    "        print(f\"Failed to retrieve the page. Status code: {response.status_code}. Page: {url}\")"
   ]
  },
  {
   "cell_type": "code",
   "execution_count": 3,
   "metadata": {},
   "outputs": [],
   "source": [
    "images_scraped = os.listdir('images')"
   ]
  },
  {
   "cell_type": "code",
   "execution_count": 90,
   "metadata": {},
   "outputs": [
    {
     "name": "stdout",
     "output_type": "stream",
     "text": [
      "Number of links: 1397\n"
     ]
    }
   ],
   "source": [
    "links = [l.replace(' ', '_') for l in all_names]\n",
    "print(f'Number of links: {len(links)}')"
   ]
  },
  {
   "cell_type": "code",
   "execution_count": 91,
   "metadata": {},
   "outputs": [],
   "source": [
    "removed = ['Patrick_Wilson', 'Graham_Greene', 'Ben_Johnson', 'Mohanlal', 'Jane_Alexander', 'Kevin_Hart', 'January_Jones', 'Jane_Seymour', 'Maria_Falconetti', 'Robert_Shaw', 'Richard_Farnsworth', 'John_Mills', 'Tyrese_Gibson', 'Michael_Lerner', 'Craig_Robinson', 'Dan_Aykroyd', 'Bette_Midler', 'John_Cazale', 'Tim_Curry', 'Danny_McBride', 'Julianne_Hough', 'Steve_Martin', 'Andy_Samberg']"
   ]
  },
  {
   "cell_type": "code",
   "execution_count": 92,
   "metadata": {},
   "outputs": [
    {
     "name": "stderr",
     "output_type": "stream",
     "text": [
      "  1%|          | 16/1397 [00:16<17:46,  1.29it/s]"
     ]
    },
    {
     "name": "stdout",
     "output_type": "stream",
     "text": [
      "Failed to retrieve the image. Page: https://it.wikipedia.org/wiki/Gabriele_Cirilli\n"
     ]
    },
    {
     "name": "stderr",
     "output_type": "stream",
     "text": [
      "  8%|▊         | 105/1397 [01:22<08:06,  2.65it/s]"
     ]
    },
    {
     "name": "stdout",
     "output_type": "stream",
     "text": [
      "Failed to retrieve the page. Status code: 404. Page: https://it.wikipedia.org/wiki/Leonardo_Decarli\n"
     ]
    },
    {
     "name": "stderr",
     "output_type": "stream",
     "text": [
      "  9%|▉         | 124/1397 [01:30<11:12,  1.89it/s]"
     ]
    },
    {
     "name": "stdout",
     "output_type": "stream",
     "text": [
      "Failed to retrieve the image. Page: https://it.wikipedia.org/wiki/Graham_Hill\n"
     ]
    },
    {
     "name": "stderr",
     "output_type": "stream",
     "text": [
      " 12%|█▏        | 173/1397 [02:08<14:16,  1.43it/s]"
     ]
    },
    {
     "name": "stdout",
     "output_type": "stream",
     "text": [
      "Failed to retrieve the page. Status code: 404. Page: https://it.wikipedia.org/wiki/Elisa_Maino\n"
     ]
    },
    {
     "name": "stderr",
     "output_type": "stream",
     "text": [
      " 17%|█▋        | 243/1397 [02:48<13:22,  1.44it/s]"
     ]
    },
    {
     "name": "stdout",
     "output_type": "stream",
     "text": [
      "Failed to retrieve the page. Status code: 404. Page: https://it.wikipedia.org/wiki/Marzia_Bisognin\n"
     ]
    },
    {
     "name": "stderr",
     "output_type": "stream",
     "text": [
      " 21%|██        | 293/1397 [03:17<14:10,  1.30it/s]"
     ]
    },
    {
     "name": "stdout",
     "output_type": "stream",
     "text": [
      "Failed to retrieve the image. Page: https://it.wikipedia.org/wiki/Michelle_Williams\n"
     ]
    },
    {
     "name": "stderr",
     "output_type": "stream",
     "text": [
      " 22%|██▏       | 312/1397 [03:59<42:23,  2.34s/it]"
     ]
    },
    {
     "name": "stdout",
     "output_type": "stream",
     "text": [
      "Failed to retrieve the image. Page: https://it.wikipedia.org/wiki/Andrea_Gabrieli\n"
     ]
    },
    {
     "name": "stderr",
     "output_type": "stream",
     "text": [
      " 24%|██▍       | 338/1397 [04:54<41:55,  2.38s/it]"
     ]
    },
    {
     "name": "stdout",
     "output_type": "stream",
     "text": [
      "Failed to retrieve the page. Status code: 404. Page: https://it.wikipedia.org/wiki/Prince_Charles\n"
     ]
    },
    {
     "name": "stderr",
     "output_type": "stream",
     "text": [
      " 25%|██▌       | 355/1397 [05:28<25:49,  1.49s/it]"
     ]
    },
    {
     "name": "stdout",
     "output_type": "stream",
     "text": [
      "Failed to retrieve the image. Page: https://it.wikipedia.org/wiki/Shirley_Jones\n"
     ]
    },
    {
     "name": "stderr",
     "output_type": "stream",
     "text": [
      " 26%|██▋       | 367/1397 [05:54<39:50,  2.32s/it]"
     ]
    },
    {
     "name": "stdout",
     "output_type": "stream",
     "text": [
      "Failed to retrieve the image. Page: https://it.wikipedia.org/wiki/Queen_Elizabeth\n"
     ]
    },
    {
     "name": "stderr",
     "output_type": "stream",
     "text": [
      " 32%|███▏      | 445/1397 [06:21<06:01,  2.64it/s]"
     ]
    },
    {
     "name": "stdout",
     "output_type": "stream",
     "text": [
      "Failed to retrieve the page. Status code: 404. Page: https://it.wikipedia.org/wiki/Ludovica_Pagani\n"
     ]
    },
    {
     "name": "stderr",
     "output_type": "stream",
     "text": [
      " 33%|███▎      | 463/1397 [06:31<07:56,  1.96it/s]"
     ]
    },
    {
     "name": "stdout",
     "output_type": "stream",
     "text": [
      "Failed to retrieve the page. Status code: 404. Page: https://it.wikipedia.org/wiki/Riccardo_Pozzoli\n"
     ]
    },
    {
     "name": "stderr",
     "output_type": "stream",
     "text": [
      " 35%|███▍      | 482/1397 [06:43<09:22,  1.63it/s]"
     ]
    },
    {
     "name": "stdout",
     "output_type": "stream",
     "text": [
      "Failed to retrieve the page. Status code: 404. Page: https://it.wikipedia.org/wiki/Wright_Brothers\n"
     ]
    },
    {
     "name": "stderr",
     "output_type": "stream",
     "text": [
      " 35%|███▌      | 489/1397 [06:49<10:56,  1.38it/s]"
     ]
    },
    {
     "name": "stdout",
     "output_type": "stream",
     "text": [
      "Failed to retrieve the image. Page: https://it.wikipedia.org/wiki/Kerri_Strug\n"
     ]
    },
    {
     "name": "stderr",
     "output_type": "stream",
     "text": [
      " 35%|███▌      | 490/1397 [06:51<12:05,  1.25it/s]"
     ]
    },
    {
     "name": "stdout",
     "output_type": "stream",
     "text": [
      "Failed to retrieve the image. Page: https://it.wikipedia.org/wiki/Christopher_Columbus\n"
     ]
    },
    {
     "name": "stderr",
     "output_type": "stream",
     "text": [
      " 38%|███▊      | 524/1397 [07:01<05:17,  2.75it/s]"
     ]
    },
    {
     "name": "stdout",
     "output_type": "stream",
     "text": [
      "Failed to retrieve the page. Status code: 404. Page: https://it.wikipedia.org/wiki/J.K.Rowling\n"
     ]
    },
    {
     "name": "stderr",
     "output_type": "stream",
     "text": [
      " 40%|███▉      | 557/1397 [07:21<05:11,  2.70it/s]"
     ]
    },
    {
     "name": "stdout",
     "output_type": "stream",
     "text": [
      "Failed to retrieve the image. Page: https://it.wikipedia.org/wiki/Karl_Malone\n"
     ]
    },
    {
     "name": "stderr",
     "output_type": "stream",
     "text": [
      " 41%|████      | 568/1397 [07:28<07:46,  1.78it/s]"
     ]
    },
    {
     "name": "stdout",
     "output_type": "stream",
     "text": [
      "Failed to retrieve the image. Page: https://it.wikipedia.org/wiki/Amadeus\n"
     ]
    },
    {
     "name": "stderr",
     "output_type": "stream",
     "text": [
      " 42%|████▏     | 581/1397 [07:42<15:38,  1.15s/it]"
     ]
    },
    {
     "name": "stdout",
     "output_type": "stream",
     "text": [
      "Failed to retrieve the page. Status code: 404. Page: https://it.wikipedia.org/wiki/Matteo_Markus_Bok\n"
     ]
    },
    {
     "name": "stderr",
     "output_type": "stream",
     "text": [
      " 42%|████▏     | 583/1397 [07:47<21:36,  1.59s/it]"
     ]
    },
    {
     "name": "stdout",
     "output_type": "stream",
     "text": [
      "Failed to retrieve the image. Page: https://it.wikipedia.org/wiki/Mark_Spitz\n"
     ]
    },
    {
     "name": "stderr",
     "output_type": "stream",
     "text": [
      " 44%|████▍     | 615/1397 [08:06<10:31,  1.24it/s]"
     ]
    },
    {
     "name": "stdout",
     "output_type": "stream",
     "text": [
      "Failed to retrieve the image. Page: https://it.wikipedia.org/wiki/Eusebio\n"
     ]
    },
    {
     "name": "stderr",
     "output_type": "stream",
     "text": [
      " 46%|████▌     | 646/1397 [08:22<10:28,  1.19it/s]"
     ]
    },
    {
     "name": "stdout",
     "output_type": "stream",
     "text": [
      "Failed to retrieve the image. Page: https://it.wikipedia.org/wiki/Christine_Taylor\n"
     ]
    },
    {
     "name": "stderr",
     "output_type": "stream",
     "text": [
      " 47%|████▋     | 652/1397 [08:34<20:38,  1.66s/it]"
     ]
    },
    {
     "name": "stdout",
     "output_type": "stream",
     "text": [
      "Failed to retrieve the page. Status code: 404. Page: https://it.wikipedia.org/wiki/Alexis_Thorpe\n"
     ]
    },
    {
     "name": "stderr",
     "output_type": "stream",
     "text": [
      " 49%|████▊     | 681/1397 [09:38<29:53,  2.51s/it]"
     ]
    },
    {
     "name": "stdout",
     "output_type": "stream",
     "text": [
      "Failed to retrieve the image. Page: https://it.wikipedia.org/wiki/Carlo_Conti\n"
     ]
    },
    {
     "name": "stderr",
     "output_type": "stream",
     "text": [
      " 51%|█████     | 707/1397 [10:36<24:42,  2.15s/it]"
     ]
    },
    {
     "name": "stdout",
     "output_type": "stream",
     "text": [
      "Failed to retrieve the image. Page: https://it.wikipedia.org/wiki/Glenda_Jackson\n"
     ]
    },
    {
     "name": "stderr",
     "output_type": "stream",
     "text": [
      " 53%|█████▎    | 742/1397 [11:23<06:26,  1.70it/s]"
     ]
    },
    {
     "name": "stdout",
     "output_type": "stream",
     "text": [
      "Failed to retrieve the page. Status code: 404. Page: https://it.wikipedia.org/wiki/John_M_Keynes\n"
     ]
    },
    {
     "name": "stderr",
     "output_type": "stream",
     "text": [
      " 58%|█████▊    | 812/1397 [12:04<05:39,  1.72it/s]"
     ]
    },
    {
     "name": "stdout",
     "output_type": "stream",
     "text": [
      "Failed to retrieve the image. Page: https://it.wikipedia.org/wiki/Plato\n"
     ]
    },
    {
     "name": "stderr",
     "output_type": "stream",
     "text": [
      " 58%|█████▊    | 815/1397 [12:07<06:15,  1.55it/s]"
     ]
    },
    {
     "name": "stdout",
     "output_type": "stream",
     "text": [
      "Failed to retrieve the page. Status code: 404. Page: https://it.wikipedia.org/wiki/Pope_Francis\n"
     ]
    },
    {
     "name": "stderr",
     "output_type": "stream",
     "text": [
      " 64%|██████▍   | 896/1397 [12:47<03:23,  2.47it/s]"
     ]
    },
    {
     "name": "stdout",
     "output_type": "stream",
     "text": [
      "Failed to retrieve the image. Page: https://it.wikipedia.org/wiki/Pauleta\n"
     ]
    },
    {
     "name": "stderr",
     "output_type": "stream",
     "text": [
      " 65%|██████▍   | 906/1397 [12:54<05:14,  1.56it/s]"
     ]
    },
    {
     "name": "stdout",
     "output_type": "stream",
     "text": [
      "Failed to retrieve the image. Page: https://it.wikipedia.org/wiki/Raphael\n"
     ]
    },
    {
     "name": "stderr",
     "output_type": "stream",
     "text": [
      " 66%|██████▌   | 916/1397 [13:00<04:58,  1.61it/s]"
     ]
    },
    {
     "name": "stdout",
     "output_type": "stream",
     "text": [
      "Failed to retrieve the page. Status code: 404. Page: https://it.wikipedia.org/wiki/Emile_Zatopek\n"
     ]
    },
    {
     "name": "stderr",
     "output_type": "stream",
     "text": [
      " 68%|██████▊   | 947/1397 [13:19<05:17,  1.42it/s]"
     ]
    },
    {
     "name": "stdout",
     "output_type": "stream",
     "text": [
      "Failed to retrieve the page. Status code: 404. Page: https://it.wikipedia.org/wiki/Luis_Sal\n"
     ]
    },
    {
     "name": "stderr",
     "output_type": "stream",
     "text": [
      " 72%|███████▏  | 1001/1397 [14:16<13:38,  2.07s/it]"
     ]
    },
    {
     "name": "stdout",
     "output_type": "stream",
     "text": [
      "Failed to retrieve the page. Status code: 404. Page: https://it.wikipedia.org/wiki/Marcello_Ascani\n"
     ]
    },
    {
     "name": "stderr",
     "output_type": "stream",
     "text": [
      " 72%|███████▏  | 1007/1397 [14:28<13:07,  2.02s/it]"
     ]
    },
    {
     "name": "stdout",
     "output_type": "stream",
     "text": [
      "Failed to retrieve the image. Page: https://it.wikipedia.org/wiki/Common\n"
     ]
    },
    {
     "name": "stderr",
     "output_type": "stream",
     "text": [
      " 72%|███████▏  | 1009/1397 [14:32<13:05,  2.03s/it]"
     ]
    },
    {
     "name": "stdout",
     "output_type": "stream",
     "text": [
      "Failed to retrieve the image. Page: https://it.wikipedia.org/wiki/Tiger_Woods\n"
     ]
    },
    {
     "name": "stderr",
     "output_type": "stream",
     "text": [
      " 73%|███████▎  | 1016/1397 [14:49<15:10,  2.39s/it]"
     ]
    },
    {
     "name": "stdout",
     "output_type": "stream",
     "text": [
      "Failed to retrieve the image. Page: https://it.wikipedia.org/wiki/Marie_Antoinette\n"
     ]
    },
    {
     "name": "stderr",
     "output_type": "stream",
     "text": [
      " 73%|███████▎  | 1019/1397 [14:55<14:32,  2.31s/it]"
     ]
    },
    {
     "name": "stdout",
     "output_type": "stream",
     "text": [
      "Failed to retrieve the page. Status code: 404. Page: https://it.wikipedia.org/wiki/Ludwig_Beethoven\n"
     ]
    },
    {
     "name": "stderr",
     "output_type": "stream",
     "text": [
      " 75%|███████▌  | 1050/1397 [16:01<11:42,  2.02s/it]"
     ]
    },
    {
     "name": "stdout",
     "output_type": "stream",
     "text": [
      "Failed to retrieve the page. Status code: 404. Page: https://it.wikipedia.org/wiki/Lord_Baden_Powell\n"
     ]
    },
    {
     "name": "stderr",
     "output_type": "stream",
     "text": [
      " 76%|███████▌  | 1064/1397 [16:28<11:20,  2.04s/it]"
     ]
    },
    {
     "name": "stdout",
     "output_type": "stream",
     "text": [
      "Failed to retrieve the image. Page: https://it.wikipedia.org/wiki/Linda_Fiorentino\n"
     ]
    },
    {
     "name": "stderr",
     "output_type": "stream",
     "text": [
      " 77%|███████▋  | 1075/1397 [16:40<05:24,  1.01s/it]"
     ]
    },
    {
     "name": "stdout",
     "output_type": "stream",
     "text": [
      "Failed to retrieve the image. Page: https://it.wikipedia.org/wiki/Ligabue\n"
     ]
    },
    {
     "name": "stderr",
     "output_type": "stream",
     "text": [
      " 77%|███████▋  | 1076/1397 [16:41<05:37,  1.05s/it]"
     ]
    },
    {
     "name": "stdout",
     "output_type": "stream",
     "text": [
      "Failed to retrieve the image. Page: https://it.wikipedia.org/wiki/Mary_Magdalene\n"
     ]
    },
    {
     "name": "stderr",
     "output_type": "stream",
     "text": [
      " 79%|███████▉  | 1102/1397 [16:52<02:25,  2.02it/s]"
     ]
    },
    {
     "name": "stdout",
     "output_type": "stream",
     "text": [
      "Failed to retrieve the image. Page: https://it.wikipedia.org/wiki/Bob_Geldof\n"
     ]
    },
    {
     "name": "stderr",
     "output_type": "stream",
     "text": [
      " 80%|███████▉  | 1111/1397 [16:58<03:02,  1.57it/s]"
     ]
    },
    {
     "name": "stdout",
     "output_type": "stream",
     "text": [
      "Failed to retrieve the page. Status code: 404. Page: https://it.wikipedia.org/wiki/Dario_Moccia\n"
     ]
    },
    {
     "name": "stderr",
     "output_type": "stream",
     "text": [
      " 83%|████████▎ | 1156/1397 [17:24<03:41,  1.09it/s]"
     ]
    },
    {
     "name": "stdout",
     "output_type": "stream",
     "text": [
      "Failed to retrieve the page. Status code: 404. Page: https://it.wikipedia.org/wiki/Luca_Chikovani\n"
     ]
    },
    {
     "name": "stderr",
     "output_type": "stream",
     "text": [
      " 83%|████████▎ | 1158/1397 [17:25<03:23,  1.18it/s]"
     ]
    },
    {
     "name": "stdout",
     "output_type": "stream",
     "text": [
      "Failed to retrieve the image. Page: https://it.wikipedia.org/wiki/Madonna\n"
     ]
    },
    {
     "name": "stderr",
     "output_type": "stream",
     "text": [
      " 85%|████████▌ | 1189/1397 [17:45<02:15,  1.53it/s]"
     ]
    },
    {
     "name": "stdout",
     "output_type": "stream",
     "text": [
      "Failed to retrieve the image. Page: https://it.wikipedia.org/wiki/Raul_Gonzalez\n"
     ]
    },
    {
     "name": "stderr",
     "output_type": "stream",
     "text": [
      " 89%|████████▉ | 1240/1397 [18:19<02:57,  1.13s/it]"
     ]
    },
    {
     "name": "stdout",
     "output_type": "stream",
     "text": [
      "Failed to retrieve the page. Status code: 404. Page: https://it.wikipedia.org/wiki/Ronaldo_Nazário\n"
     ]
    },
    {
     "name": "stderr",
     "output_type": "stream",
     "text": [
      " 92%|█████████▏| 1291/1397 [18:45<00:45,  2.35it/s]"
     ]
    },
    {
     "name": "stdout",
     "output_type": "stream",
     "text": [
      "Failed to retrieve the page. Status code: 404. Page: https://it.wikipedia.org/wiki/Marco_Ferrero\n"
     ]
    },
    {
     "name": "stderr",
     "output_type": "stream",
     "text": [
      " 92%|█████████▏| 1292/1397 [18:46<00:53,  1.97it/s]"
     ]
    },
    {
     "name": "stdout",
     "output_type": "stream",
     "text": [
      "Failed to retrieve the image. Page: https://it.wikipedia.org/wiki/Aung_San_Suu_Kyi\n"
     ]
    },
    {
     "name": "stderr",
     "output_type": "stream",
     "text": [
      " 96%|█████████▌| 1339/1397 [19:31<02:15,  2.33s/it]"
     ]
    },
    {
     "name": "stdout",
     "output_type": "stream",
     "text": [
      "Failed to retrieve the image. Page: https://it.wikipedia.org/wiki/Birgit_Fischer\n"
     ]
    },
    {
     "name": "stderr",
     "output_type": "stream",
     "text": [
      " 98%|█████████▊| 1363/1397 [20:21<01:06,  1.96s/it]"
     ]
    },
    {
     "name": "stdout",
     "output_type": "stream",
     "text": [
      "Failed to retrieve the image. Page: https://it.wikipedia.org/wiki/Anthony_Davis\n"
     ]
    },
    {
     "name": "stderr",
     "output_type": "stream",
     "text": [
      " 98%|█████████▊| 1365/1397 [20:24<00:51,  1.62s/it]"
     ]
    },
    {
     "name": "stdout",
     "output_type": "stream",
     "text": [
      "Failed to retrieve the page. Status code: 404. Page: https://it.wikipedia.org/wiki/Mother_Teresa\n"
     ]
    },
    {
     "name": "stderr",
     "output_type": "stream",
     "text": [
      " 99%|█████████▉| 1385/1397 [21:02<00:23,  1.94s/it]"
     ]
    },
    {
     "name": "stdout",
     "output_type": "stream",
     "text": [
      "Failed to retrieve the image. Page: https://it.wikipedia.org/wiki/Lodovica_Comello\n"
     ]
    },
    {
     "name": "stderr",
     "output_type": "stream",
     "text": [
      " 99%|█████████▉| 1388/1397 [21:07<00:15,  1.73s/it]"
     ]
    },
    {
     "name": "stdout",
     "output_type": "stream",
     "text": [
      "Failed to retrieve the image. Page: https://it.wikipedia.org/wiki/Alessia_Marcuzzi\n"
     ]
    },
    {
     "name": "stderr",
     "output_type": "stream",
     "text": [
      "100%|██████████| 1397/1397 [21:27<00:00,  1.09it/s]\n"
     ]
    }
   ],
   "source": [
    "for name in ProgressBar(links):\n",
    "    if any(name in s for s in images_scraped) or name in removed:\n",
    "        # print(f'{name} already scraped')\n",
    "        continue\n",
    "    url = f'https://it.wikipedia.org/wiki/{name}'\n",
    "    save_path = 'images'\n",
    "    download_wikipedia_images(url, save_path, name)\n",
    "    time.sleep(random.randint(1, 2))"
   ]
  }
 ],
 "metadata": {
  "kernelspec": {
   "display_name": "Python 3",
   "language": "python",
   "name": "python3"
  },
  "language_info": {
   "codemirror_mode": {
    "name": "ipython",
    "version": 3
   },
   "file_extension": ".py",
   "mimetype": "text/x-python",
   "name": "python",
   "nbconvert_exporter": "python",
   "pygments_lexer": "ipython3",
   "version": "3.9.13"
  },
  "orig_nbformat": 4
 },
 "nbformat": 4,
 "nbformat_minor": 2
}
