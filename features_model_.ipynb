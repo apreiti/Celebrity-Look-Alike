{
 "cells": [
  {
   "cell_type": "markdown",
   "metadata": {},
   "source": [
    "## Notebook Scope"
   ]
  },
  {
   "cell_type": "markdown",
   "metadata": {},
   "source": [
    "In this notebook will be presented three models used to enhance the performance of our baseline model."
   ]
  },
  {
   "cell_type": "code",
   "execution_count": 40,
   "metadata": {},
   "outputs": [],
   "source": [
    "import pandas as pd\n",
    "import numpy as np\n",
    "import PIL\n",
    "from sklearn.model_selection import train_test_split\n",
    "from keras.models import Sequential\n",
    "from keras.layers import Conv2D, MaxPooling2D, Dense, GlobalAveragePooling2D, BatchNormalization\n",
    "from keras.callbacks import EarlyStopping\n",
    "from keras.layers import Conv2D, BatchNormalization, GlobalAveragePooling2D, Dense, Dropout, MaxPooling2D\n",
    "from keras.optimizers import Adam\n",
    "from keras.callbacks import ModelCheckpoint, EarlyStopping\n",
    "from keras.preprocessing.image import ImageDataGenerator\n",
    "import tensorflow as tf\n",
    "from keras.applications.inception_v3 import InceptionV3\n",
    "from keras.optimizers import SGD\n"
   ]
  },
  {
   "cell_type": "code",
   "execution_count": 6,
   "metadata": {},
   "outputs": [],
   "source": [
    "attributes_data_path = \"list_attr_celeba.csv\"\n",
    "images_data_path = \"img_align_celeba/img_align_celeba\"\n",
    "\n",
    "df = pd.read_csv(attributes_data_path)"
   ]
  },
  {
   "cell_type": "markdown",
   "metadata": {},
   "source": [
    "## Hair Type Model"
   ]
  },
  {
   "cell_type": "markdown",
   "metadata": {},
   "source": [
    "This first part presents a Convolutional Neural Network (CNN) model for the classification of hair attributes. The primary goal is to predict the presence or absence of various hair characteristics in images. The model focuses on the following hair attributes:\n",
    "\n",
    "- Bald\n",
    "- Black Hair\n",
    "- Blond Hair\n",
    "- Brown Hair\n",
    "- Gray Hair\n",
    "\n",
    "#### Dataset Preprocessing\n",
    "The dataset used for training and evaluation has been preprocessed to exclude ambiguous samples. Specifically, rows with more than one positive hair attribute have been removed to ensure the model's focus on individual attributes.\n",
    "\n",
    "#### Model Architecture\n",
    "The CNN architecture comprises several convolutional layers with batch normalization and pooling, aiming to capture hierarchical features in the input images. The model concludes with a global average pooling layer and fully connected (dense) layers for classification.\n",
    "\n",
    "- Input Shape: (128, 128, 3) representing images with a resolution of 128x128 pixels and three color channels (RGB).\n",
    "- Output Layer: Utilizes the softmax activation function to output probabilities for each hair attribute class.\n",
    "\n",
    "#### Model Compilation\n",
    "The model is compiled using the Adam optimizer and categorical crossentropy as the loss function. The accuracy metric is used to assess the model's performance during training and evaluation.\n",
    "\n",
    "#### Training and Evaluation\n",
    "The training process involves feeding labeled images through the network and adjusting the model's weights to minimize the categorical crossentropy loss. The model's performance is assessed on a separate validation set to monitor generalization capabilities."
   ]
  },
  {
   "cell_type": "code",
   "execution_count": 8,
   "metadata": {},
   "outputs": [],
   "source": [
    "labels = df[~(df[['Bald', 'Black_Hair', 'Blond_Hair', 'Brown_Hair', 'Gray_Hair']] == -1).all(axis=1)]\n",
    "features = ['Bald', 'Black_Hair', 'Blond_Hair', 'Brown_Hair', 'Gray_Hair']\n",
    "row_sums = labels[features].eq(1).sum(axis=1)\n",
    "labels = labels[row_sums <= 1]"
   ]
  },
  {
   "cell_type": "code",
   "execution_count": 9,
   "metadata": {},
   "outputs": [],
   "source": [
    "subset = labels[features + ['image_id']].sample(10000)"
   ]
  },
  {
   "cell_type": "code",
   "execution_count": 10,
   "metadata": {},
   "outputs": [
    {
     "data": {
      "text/html": [
       "<div>\n",
       "<style scoped>\n",
       "    .dataframe tbody tr th:only-of-type {\n",
       "        vertical-align: middle;\n",
       "    }\n",
       "\n",
       "    .dataframe tbody tr th {\n",
       "        vertical-align: top;\n",
       "    }\n",
       "\n",
       "    .dataframe thead th {\n",
       "        text-align: right;\n",
       "    }\n",
       "</style>\n",
       "<table border=\"1\" class=\"dataframe\">\n",
       "  <thead>\n",
       "    <tr style=\"text-align: right;\">\n",
       "      <th></th>\n",
       "      <th>image_id</th>\n",
       "      <th>Bald</th>\n",
       "      <th>Black_Hair</th>\n",
       "      <th>Blond_Hair</th>\n",
       "      <th>Brown_Hair</th>\n",
       "      <th>Gray_Hair</th>\n",
       "    </tr>\n",
       "  </thead>\n",
       "  <tbody>\n",
       "    <tr>\n",
       "      <th>137380</th>\n",
       "      <td>137381.jpg</td>\n",
       "      <td>0</td>\n",
       "      <td>0</td>\n",
       "      <td>0</td>\n",
       "      <td>1</td>\n",
       "      <td>0</td>\n",
       "    </tr>\n",
       "    <tr>\n",
       "      <th>187336</th>\n",
       "      <td>187337.jpg</td>\n",
       "      <td>0</td>\n",
       "      <td>0</td>\n",
       "      <td>0</td>\n",
       "      <td>1</td>\n",
       "      <td>0</td>\n",
       "    </tr>\n",
       "    <tr>\n",
       "      <th>70771</th>\n",
       "      <td>070772.jpg</td>\n",
       "      <td>0</td>\n",
       "      <td>0</td>\n",
       "      <td>0</td>\n",
       "      <td>1</td>\n",
       "      <td>0</td>\n",
       "    </tr>\n",
       "    <tr>\n",
       "      <th>46825</th>\n",
       "      <td>046826.jpg</td>\n",
       "      <td>1</td>\n",
       "      <td>0</td>\n",
       "      <td>0</td>\n",
       "      <td>0</td>\n",
       "      <td>0</td>\n",
       "    </tr>\n",
       "    <tr>\n",
       "      <th>823</th>\n",
       "      <td>000824.jpg</td>\n",
       "      <td>0</td>\n",
       "      <td>0</td>\n",
       "      <td>1</td>\n",
       "      <td>0</td>\n",
       "      <td>0</td>\n",
       "    </tr>\n",
       "  </tbody>\n",
       "</table>\n",
       "</div>"
      ],
      "text/plain": [
       "          image_id  Bald  Black_Hair  Blond_Hair  Brown_Hair  Gray_Hair\n",
       "137380  137381.jpg     0           0           0           1          0\n",
       "187336  187337.jpg     0           0           0           1          0\n",
       "70771   070772.jpg     0           0           0           1          0\n",
       "46825   046826.jpg     1           0           0           0          0\n",
       "823     000824.jpg     0           0           1           0          0"
      ]
     },
     "execution_count": 10,
     "metadata": {},
     "output_type": "execute_result"
    }
   ],
   "source": [
    "image_ids = subset['image_id']\n",
    "label_data = subset.drop('image_id', axis=1)\n",
    "label_data = (label_data + 1) // 2\n",
    "processed_data = pd.concat([image_ids, label_data], axis=1)\n",
    "\n",
    "processed_data.head()"
   ]
  },
  {
   "cell_type": "code",
   "execution_count": 11,
   "metadata": {},
   "outputs": [],
   "source": [
    "def load_and_preprocess_image(target_size=(128, 128)):\n",
    "    images_data = list()\n",
    "    for idx in range(subset.shape[0]):\n",
    "        path = \"{}/{}\".format(str(images_data_path),str(subset.iloc[idx].image_id))\n",
    "        image = PIL.Image.open(path).resize(target_size)\n",
    "        image_array = np.asarray(image)/255\n",
    "        images_data.append(image_array)\n",
    "    images_data = np.array(images_data)\n",
    "    return images_data"
   ]
  },
  {
   "cell_type": "code",
   "execution_count": 12,
   "metadata": {},
   "outputs": [],
   "source": [
    "images_data = load_and_preprocess_image()\n",
    "labels = processed_data.drop(['image_id'], axis=1)\n",
    "\n",
    "# Split the dataset\n",
    "train_images, test_images, train_labels, test_labels = train_test_split(images_data, labels, test_size=0.2, random_state=42)  # 0.2 x 0.8 = 0.16\n",
    "\n",
    "# Split the test dataset into validation and test sets\n",
    "val_images, test_images, val_labels, test_labels = train_test_split(test_images, test_labels, test_size=0.5, random_state=42)  # 0.5 x 0.16 = 0.08"
   ]
  },
  {
   "cell_type": "code",
   "execution_count": 22,
   "metadata": {},
   "outputs": [],
   "source": [
    "model = Sequential()\n",
    "\n",
    "model.add(Conv2D(32, (3, 3), activation='relu', input_shape=(128, 128, 3)))\n",
    "model.add(BatchNormalization())\n",
    "model.add(Conv2D(32, (3, 3), activation='relu'))\n",
    "model.add(BatchNormalization())\n",
    "model.add(MaxPooling2D((2, 2)))\n",
    "\n",
    "model.add(Conv2D(64, (3, 3), activation='relu'))\n",
    "model.add(BatchNormalization())\n",
    "\n",
    "model.add(Conv2D(64, (3, 3), activation='relu'))\n",
    "model.add(BatchNormalization())\n",
    "model.add(MaxPooling2D((2, 2)))\n",
    "\n",
    "model.add(Conv2D(128, (3, 3), activation='relu'))\n",
    "model.add(BatchNormalization())\n",
    "\n",
    "model.add(Conv2D(128, (3, 3), activation='relu'))\n",
    "model.add(BatchNormalization())\n",
    "model.add(MaxPooling2D((2, 2)))\n",
    "\n",
    "model.add(GlobalAveragePooling2D())\n",
    "\n",
    "model.add(Dense(8, activation='relu'))\n",
    "\n",
    "model.add(Dense(5, activation='softmax'))\n",
    "\n",
    "model.compile(optimizer='adam', loss='categorical_crossentropy', metrics=['accuracy'])"
   ]
  },
  {
   "cell_type": "code",
   "execution_count": 23,
   "metadata": {},
   "outputs": [
    {
     "name": "stdout",
     "output_type": "stream",
     "text": [
      "Model: \"sequential_3\"\n",
      "_________________________________________________________________\n",
      " Layer (type)                Output Shape              Param #   \n",
      "=================================================================\n",
      " conv2d_18 (Conv2D)          (None, 126, 126, 32)      896       \n",
      "                                                                 \n",
      " batch_normalization_18 (Ba  (None, 126, 126, 32)      128       \n",
      " tchNormalization)                                               \n",
      "                                                                 \n",
      " conv2d_19 (Conv2D)          (None, 124, 124, 32)      9248      \n",
      "                                                                 \n",
      " batch_normalization_19 (Ba  (None, 124, 124, 32)      128       \n",
      " tchNormalization)                                               \n",
      "                                                                 \n",
      " max_pooling2d_9 (MaxPoolin  (None, 62, 62, 32)        0         \n",
      " g2D)                                                            \n",
      "                                                                 \n",
      " conv2d_20 (Conv2D)          (None, 60, 60, 64)        18496     \n",
      "                                                                 \n",
      " batch_normalization_20 (Ba  (None, 60, 60, 64)        256       \n",
      " tchNormalization)                                               \n",
      "                                                                 \n",
      " conv2d_21 (Conv2D)          (None, 58, 58, 64)        36928     \n",
      "                                                                 \n",
      " batch_normalization_21 (Ba  (None, 58, 58, 64)        256       \n",
      " tchNormalization)                                               \n",
      "                                                                 \n",
      " max_pooling2d_10 (MaxPooli  (None, 29, 29, 64)        0         \n",
      " ng2D)                                                           \n",
      "                                                                 \n",
      " conv2d_22 (Conv2D)          (None, 27, 27, 128)       73856     \n",
      "                                                                 \n",
      " batch_normalization_22 (Ba  (None, 27, 27, 128)       512       \n",
      " tchNormalization)                                               \n",
      "                                                                 \n",
      " conv2d_23 (Conv2D)          (None, 25, 25, 128)       147584    \n",
      "                                                                 \n",
      " batch_normalization_23 (Ba  (None, 25, 25, 128)       512       \n",
      " tchNormalization)                                               \n",
      "                                                                 \n",
      " max_pooling2d_11 (MaxPooli  (None, 12, 12, 128)       0         \n",
      " ng2D)                                                           \n",
      "                                                                 \n",
      " global_average_pooling2d_3  (None, 128)               0         \n",
      "  (GlobalAveragePooling2D)                                       \n",
      "                                                                 \n",
      " dense_6 (Dense)             (None, 8)                 1032      \n",
      "                                                                 \n",
      " dense_7 (Dense)             (None, 5)                 45        \n",
      "                                                                 \n",
      "=================================================================\n",
      "Total params: 289877 (1.11 MB)\n",
      "Trainable params: 288981 (1.10 MB)\n",
      "Non-trainable params: 896 (3.50 KB)\n",
      "_________________________________________________________________\n"
     ]
    }
   ],
   "source": [
    "model.summary()"
   ]
  },
  {
   "cell_type": "code",
   "execution_count": 24,
   "metadata": {},
   "outputs": [
    {
     "name": "stdout",
     "output_type": "stream",
     "text": [
      "Epoch 1/8\n",
      "250/250 [==============================] - 94s 376ms/step - loss: 0.9019 - accuracy: 0.6833 - val_loss: 1.9685 - val_accuracy: 0.2740\n",
      "Epoch 2/8\n",
      "250/250 [==============================] - 93s 371ms/step - loss: 0.5798 - accuracy: 0.7904 - val_loss: 1.2096 - val_accuracy: 0.5130\n",
      "Epoch 3/8\n",
      "250/250 [==============================] - 91s 363ms/step - loss: 0.5104 - accuracy: 0.8125 - val_loss: 0.9231 - val_accuracy: 0.6590\n",
      "Epoch 4/8\n",
      "250/250 [==============================] - 93s 371ms/step - loss: 0.4507 - accuracy: 0.8275 - val_loss: 0.5048 - val_accuracy: 0.8300\n",
      "Epoch 5/8\n",
      "250/250 [==============================] - 94s 376ms/step - loss: 0.3919 - accuracy: 0.8524 - val_loss: 0.5635 - val_accuracy: 0.7870\n",
      "Epoch 6/8\n",
      "250/250 [==============================] - 93s 371ms/step - loss: 0.3589 - accuracy: 0.8665 - val_loss: 0.4790 - val_accuracy: 0.8150\n",
      "Epoch 7/8\n",
      "250/250 [==============================] - 96s 384ms/step - loss: 0.3364 - accuracy: 0.8709 - val_loss: 0.6320 - val_accuracy: 0.7590\n",
      "Epoch 8/8\n",
      "250/250 [==============================] - 94s 377ms/step - loss: 0.3256 - accuracy: 0.8784 - val_loss: 0.3539 - val_accuracy: 0.8680\n"
     ]
    }
   ],
   "source": [
    "callbaks = [EarlyStopping(monitor='val_loss', patience=4, verbose=1, restore_best_weights=True)]\n",
    "\n",
    "history = model.fit(train_images, train_labels, epochs=8, batch_size=32, validation_data=(val_images, val_labels), callbacks=callbaks)"
   ]
  },
  {
   "cell_type": "code",
   "execution_count": 25,
   "metadata": {},
   "outputs": [
    {
     "data": {
      "image/png": "[encoded data removed]",
      "text/plain": [
       "<Figure size 1000x400 with 1 Axes>"
      ]
     },
     "metadata": {},
     "output_type": "display_data"
    }
   ],
   "source": [
    "import matplotlib.pyplot as plt\n",
    "import seaborn as sns\n",
    "\n",
    "# Use Seaborn's whitegrid style\n",
    "sns.set_style(\"whitegrid\")\n",
    "\n",
    "# Create a figure and axis\n",
    "plt.figure(figsize=(10, 4))\n",
    "\n",
    "# Plot training accuracy\n",
    "plt.plot(history.history[\"accuracy\"], label=\"Training Accuracy\", linewidth=2, color='blue')\n",
    "\n",
    "# Plot validation accuracy\n",
    "plt.plot(history.history[\"val_accuracy\"], label=\"Validation Accuracy\", linewidth=2, color='orange')\n",
    "\n",
    "# Title and labels\n",
    "plt.title(\"Training and Validation Accuracy\", fontsize=16)\n",
    "plt.xlabel(\"Epoch\", fontsize=14)\n",
    "plt.ylabel(\"Accuracy\", fontsize=14)\n",
    "\n",
    "# Add legend\n",
    "plt.legend(loc=\"lower right\", fontsize=12)\n",
    "\n",
    "# Add grid for better readability\n",
    "plt.grid(True, linestyle='--', alpha=0.7)\n",
    "\n",
    "# Tight layout to prevent clipping of labels\n",
    "plt.tight_layout()\n",
    "\n",
    "# Show the plot\n",
    "plt.show()"
   ]
  },
  {
   "cell_type": "code",
   "execution_count": 26,
   "metadata": {},
   "outputs": [
    {
     "data": {
      "image/png": "[encoded data removed]",
      "text/plain": [
       "<Figure size 1000x400 with 1 Axes>"
      ]
     },
     "metadata": {},
     "output_type": "display_data"
    }
   ],
   "source": [
    "import matplotlib.pyplot as plt\n",
    "import seaborn as sns\n",
    "\n",
    "# Use Seaborn's whitegrid style\n",
    "sns.set_style(\"whitegrid\")\n",
    "\n",
    "# Create a figure and axis\n",
    "plt.figure(figsize=(10, 4))\n",
    "\n",
    "# Plot training accuracy\n",
    "plt.plot(history.history[\"loss\"], label=\"Training Loss\", linewidth=2, color='blue')\n",
    "\n",
    "# Plot validation accuracy\n",
    "plt.plot(history.history[\"val_loss\"], label=\"Validation Loss\", linewidth=2, color='orange')\n",
    "\n",
    "# Title and labels\n",
    "plt.title(\"Training and Validation Loss\", fontsize=16)\n",
    "plt.xlabel(\"Epoch\", fontsize=14)\n",
    "plt.ylabel(\"Accuracy\", fontsize=14)\n",
    "\n",
    "# Add legend\n",
    "plt.legend(loc=\"lower right\", fontsize=12)\n",
    "\n",
    "# Add grid for better readability\n",
    "plt.grid(True, linestyle='--', alpha=0.7)\n",
    "\n",
    "# Tight layout to prevent clipping of labels\n",
    "plt.tight_layout()\n",
    "\n",
    "# Show the plot\n",
    "plt.show()"
   ]
  },
  {
   "cell_type": "code",
   "execution_count": 27,
   "metadata": {},
   "outputs": [
    {
     "name": "stderr",
     "output_type": "stream",
     "text": [
      "/Users/anpreit/anaconda3/envs/ag/lib/python3.10/site-packages/keras/src/engine/training.py:3103: UserWarning: You are saving your model as an HDF5 file via `model.save()`. This file format is considered legacy. We recommend using instead the native Keras format, e.g. `model.save('my_model.keras')`.\n",
      "  saving_api.save_model(\n"
     ]
    }
   ],
   "source": [
    "model.save('hair_model.h5')"
   ]
  },
  {
   "cell_type": "code",
   "execution_count": 28,
   "metadata": {},
   "outputs": [],
   "source": [
    "# load model\n",
    "model = tf.keras.models.load_model('hair_model.h5')"
   ]
  },
  {
   "cell_type": "code",
   "execution_count": 29,
   "metadata": {},
   "outputs": [
    {
     "name": "stdout",
     "output_type": "stream",
     "text": [
      "32/32 [==============================] - 3s 90ms/step\n"
     ]
    }
   ],
   "source": [
    "predictions = model.predict(test_images)"
   ]
  },
  {
   "cell_type": "code",
   "execution_count": 30,
   "metadata": {},
   "outputs": [],
   "source": [
    "predictions_final = np.argmax(predictions, axis=1)"
   ]
  },
  {
   "cell_type": "code",
   "execution_count": 31,
   "metadata": {},
   "outputs": [],
   "source": [
    "test_labels_final = np.argmax(test_labels.values, axis=1)"
   ]
  },
  {
   "cell_type": "code",
   "execution_count": 32,
   "metadata": {},
   "outputs": [
    {
     "name": "stdout",
     "output_type": "stream",
     "text": [
      "The Accuracy of the model on the test set is: 0.863\n"
     ]
    }
   ],
   "source": [
    "# Calculate accuracy\n",
    "from sklearn.metrics import accuracy_score\n",
    "accuracy = accuracy_score(test_labels_final, predictions_final)\n",
    "\n",
    "print(\"The Accuracy of the model on the test set is: {}\".format(accuracy))"
   ]
  },
  {
   "cell_type": "code",
   "execution_count": 33,
   "metadata": {},
   "outputs": [
    {
     "data": {
      "image/png": "[encoded data removed]",
      "text/plain": [
       "<Figure size 800x600 with 2 Axes>"
      ]
     },
     "metadata": {},
     "output_type": "display_data"
    }
   ],
   "source": [
    "import numpy as np\n",
    "import seaborn as sns\n",
    "import matplotlib.pyplot as plt\n",
    "from sklearn.metrics import confusion_matrix\n",
    "\n",
    "# Get unique labels\n",
    "labels = np.unique(np.concatenate((test_labels_final, predictions_final)))\n",
    "\n",
    "# Calculate confusion matrix\n",
    "cm = confusion_matrix(test_labels_final, predictions_final, labels=labels)\n",
    "\n",
    "# Plot confusion matrix as a heatmap using seaborn\n",
    "plt.figure(figsize=(8, 6))\n",
    "sns.heatmap(cm, annot=True, fmt=\"d\", cmap=\"Blues\", xticklabels=labels, yticklabels=labels)\n",
    "plt.title('Confusion Matrix')\n",
    "plt.xlabel('Predicted')\n",
    "plt.ylabel('True')\n",
    "plt.show()\n",
    "\n"
   ]
  },
  {
   "cell_type": "markdown",
   "metadata": {},
   "source": [
    "## Female or Male?"
   ]
  },
  {
   "cell_type": "markdown",
   "metadata": {},
   "source": [
    "This notebook presents a transfer learning approach using the InceptionV3 architecture pre-trained on the ImageNet dataset for binary image classification. The primary objective is to fine-tune the InceptionV3 model on male/female classification task. The model is trained on a subset of the CelebA dataset, which contains over 200,000 celebrity images with annotations.\n",
    "\n",
    "#### Transfer Learning with InceptionV3\n",
    "The base of the model is InceptionV3, a powerful convolutional neural network (CNN) known for its effectiveness in image classification tasks. The pre-trained weights from ImageNet provide a solid foundation for feature extraction. To tailor the model to the current task, only the top layers are modified.\n",
    "\n",
    "#### Model Architecture\n",
    "The modified model consists of the InceptionV3 base followed by a global average pooling layer and two densely connected layers. The global average pooling layer reduces the spatial dimensions of the feature maps, while the dense layers perform the final classification. The last layer uses the sigmoid activation function for binary classification.\n",
    "\n",
    "#### Freezing Layers\n",
    "To prevent overfitting and retain the knowledge gained during ImageNet pre-training, the initial layers of InceptionV3 are frozen, and only the later layers are trainable during fine-tuning.\n",
    "\n",
    "#### Compilation\n",
    "The model is compiled using stochastic gradient descent (SGD) with a low learning rate (lr=0.001) and binary crossentropy as the loss function. The accuracy metric is used to monitor the model's performance.\n",
    "\n",
    "#### Callbacks\n",
    "Two callbacks are employed during training: \n",
    "- **ModelCheckpoint:** Saves the best model based on the validation accuracy.\n",
    "- **EarlyStopping:** Halts training if there is no improvement in validation loss after a certain number of epochs, restoring the best weights.\n",
    "\n"
   ]
  },
  {
   "cell_type": "code",
   "execution_count": 34,
   "metadata": {},
   "outputs": [
    {
     "data": {
      "text/plain": [
       "<Axes: xlabel='count', ylabel='Male'>"
      ]
     },
     "execution_count": 34,
     "metadata": {},
     "output_type": "execute_result"
    },
    {
     "data": {
      "image/png": "[encoded data removed]",
      "text/plain": [
       "<Figure size 640x480 with 1 Axes>"
      ]
     },
     "metadata": {},
     "output_type": "display_data"
    }
   ],
   "source": [
    "labels = df\n",
    "features = ['Male']\n",
    "subset = labels[features + ['image_id']].sample(10000)\n",
    "import seaborn as sns\n",
    "\n",
    "sns.countplot(y='Male', data=labels, color=\"c\")\n"
   ]
  },
  {
   "cell_type": "code",
   "execution_count": 35,
   "metadata": {},
   "outputs": [
    {
     "data": {
      "text/html": [
       "<div>\n",
       "<style scoped>\n",
       "    .dataframe tbody tr th:only-of-type {\n",
       "        vertical-align: middle;\n",
       "    }\n",
       "\n",
       "    .dataframe tbody tr th {\n",
       "        vertical-align: top;\n",
       "    }\n",
       "\n",
       "    .dataframe thead th {\n",
       "        text-align: right;\n",
       "    }\n",
       "</style>\n",
       "<table border=\"1\" class=\"dataframe\">\n",
       "  <thead>\n",
       "    <tr style=\"text-align: right;\">\n",
       "      <th></th>\n",
       "      <th>image_id</th>\n",
       "      <th>Male</th>\n",
       "    </tr>\n",
       "  </thead>\n",
       "  <tbody>\n",
       "    <tr>\n",
       "      <th>43456</th>\n",
       "      <td>043457.jpg</td>\n",
       "      <td>0</td>\n",
       "    </tr>\n",
       "    <tr>\n",
       "      <th>71061</th>\n",
       "      <td>071062.jpg</td>\n",
       "      <td>0</td>\n",
       "    </tr>\n",
       "    <tr>\n",
       "      <th>62971</th>\n",
       "      <td>062972.jpg</td>\n",
       "      <td>0</td>\n",
       "    </tr>\n",
       "    <tr>\n",
       "      <th>76481</th>\n",
       "      <td>076482.jpg</td>\n",
       "      <td>0</td>\n",
       "    </tr>\n",
       "    <tr>\n",
       "      <th>37939</th>\n",
       "      <td>037940.jpg</td>\n",
       "      <td>1</td>\n",
       "    </tr>\n",
       "  </tbody>\n",
       "</table>\n",
       "</div>"
      ],
      "text/plain": [
       "         image_id  Male\n",
       "43456  043457.jpg     0\n",
       "71061  071062.jpg     0\n",
       "62971  062972.jpg     0\n",
       "76481  076482.jpg     0\n",
       "37939  037940.jpg     1"
      ]
     },
     "execution_count": 35,
     "metadata": {},
     "output_type": "execute_result"
    }
   ],
   "source": [
    "labels = df\n",
    "features = ['Male']\n",
    "subset = labels[features + ['image_id']].sample(10000)\n",
    "image_ids = subset['image_id']\n",
    "label_data = subset.drop('image_id', axis=1)\n",
    "label_data = (label_data + 1) // 2\n",
    "processed_data = pd.concat([image_ids, label_data], axis=1)\n",
    "\n",
    "processed_data.head()"
   ]
  },
  {
   "cell_type": "code",
   "execution_count": 36,
   "metadata": {},
   "outputs": [],
   "source": [
    "# Load and preprocess images\n",
    "def load_and_preprocess_image(target_size=(128, 128)):\n",
    "    images_data = list()\n",
    "    for idx in range(subset.shape[0]):\n",
    "        path = \"{}/{}\".format(str(images_data_path), str(subset.iloc[idx].image_id))\n",
    "        image = PIL.Image.open(path).resize(target_size)\n",
    "        image_array = np.asarray(image) / 255\n",
    "        images_data.append(image_array)\n",
    "    images_data = np.array(images_data)\n",
    "    return images_data"
   ]
  },
  {
   "cell_type": "code",
   "execution_count": 37,
   "metadata": {},
   "outputs": [],
   "source": [
    "images_data = load_and_preprocess_image()\n",
    "labels = processed_data.drop(['image_id'], axis=1)"
   ]
  },
  {
   "cell_type": "code",
   "execution_count": 38,
   "metadata": {},
   "outputs": [],
   "source": [
    "# Split the dataset\n",
    "train_images, test_images, train_labels, test_labels = train_test_split(\n",
    "    images_data, labels, test_size=0.2, random_state=42\n",
    ")\n",
    "\n",
    "# Split the test dataset into validation and test sets\n",
    "val_images, test_images, val_labels, test_labels = train_test_split(\n",
    "    test_images, test_labels, test_size=0.5, random_state=42\n",
    ")"
   ]
  },
  {
   "cell_type": "code",
   "execution_count": 41,
   "metadata": {},
   "outputs": [],
   "source": [
    "base_model = InceptionV3(weights='imagenet', include_top=False, input_shape=(128, 128, 3))"
   ]
  },
  {
   "cell_type": "code",
   "execution_count": 42,
   "metadata": {},
   "outputs": [],
   "source": [
    "# Freeze layers up to the 100th layer\n",
    "for layer in base_model.layers[:100]:\n",
    "    layer.trainable = False"
   ]
  },
  {
   "cell_type": "code",
   "execution_count": 43,
   "metadata": {},
   "outputs": [
    {
     "name": "stderr",
     "output_type": "stream",
     "text": [
      "WARNING:absl:At this time, the v2.11+ optimizer `tf.keras.optimizers.SGD` runs slowly on M1/M2 Macs, please use the legacy Keras optimizer instead, located at `tf.keras.optimizers.legacy.SGD`.\n",
      "WARNING:absl:`lr` is deprecated in Keras optimizer, please use `learning_rate` or use the legacy optimizer, e.g.,tf.keras.optimizers.legacy.SGD.\n"
     ]
    }
   ],
   "source": [
    "model = Sequential()\n",
    "model.add(base_model)\n",
    "model.add(GlobalAveragePooling2D())\n",
    "model.add(Dense(128, activation='relu'))\n",
    "model.add(Dense(1, activation='sigmoid'))\n",
    "\n",
    "# Compile the model\n",
    "model.compile(optimizer=SGD(lr=0.001), loss='binary_crossentropy', metrics=['accuracy'])\n",
    "\n",
    "# Create callbacks (optional but recommended)\n",
    "checkpoint = ModelCheckpoint('inceptionv3_model.h5', monitor='val_accuracy', save_best_only=True)\n",
    "early_stopping = EarlyStopping(monitor='val_loss', patience=5, restore_best_weights=True)\n"
   ]
  },
  {
   "cell_type": "code",
   "execution_count": 44,
   "metadata": {},
   "outputs": [],
   "source": [
    "datagen = ImageDataGenerator(\n",
    "    rotation_range=10,\n",
    "    width_shift_range=0.1,\n",
    "    height_shift_range=0.1,\n",
    "    shear_range=0.1,\n",
    "    zoom_range=0.1,\n",
    "    horizontal_flip=True,\n",
    "    fill_mode='nearest'\n",
    ")"
   ]
  },
  {
   "cell_type": "code",
   "execution_count": 67,
   "metadata": {},
   "outputs": [
    {
     "name": "stdout",
     "output_type": "stream",
     "text": [
      "Epoch 1/30\n"
     ]
    },
    {
     "name": "stderr",
     "output_type": "stream",
     "text": [
      "/var/folders/9q/_dywz3t10_z2p9yqrdfk41b80000gr/T/ipykernel_73033/422747811.py:1: UserWarning: `Model.fit_generator` is deprecated and will be removed in a future version. Please use `Model.fit`, which supports generators.\n",
      "  history = model.fit_generator(\n"
     ]
    },
    {
     "name": "stdout",
     "output_type": "stream",
     "text": [
      "250/250 [==============================] - ETA: 0s - loss: 0.1103 - accuracy: 0.9581"
     ]
    },
    {
     "name": "stderr",
     "output_type": "stream",
     "text": [
      "/Users/anpreit/anaconda3/envs/ag/lib/python3.10/site-packages/keras/src/engine/training.py:3103: UserWarning: You are saving your model as an HDF5 file via `model.save()`. This file format is considered legacy. We recommend using instead the native Keras format, e.g. `model.save('my_model.keras')`.\n",
      "  saving_api.save_model(\n"
     ]
    },
    {
     "name": "stdout",
     "output_type": "stream",
     "text": [
      "250/250 [==============================] - 58s 231ms/step - loss: 0.1103 - accuracy: 0.9581 - val_loss: 0.1820 - val_accuracy: 0.9370\n",
      "Epoch 2/30\n",
      "250/250 [==============================] - 53s 210ms/step - loss: 0.0988 - accuracy: 0.9610 - val_loss: 0.1846 - val_accuracy: 0.9320\n",
      "Epoch 3/30\n",
      "250/250 [==============================] - 54s 215ms/step - loss: 0.0973 - accuracy: 0.9635 - val_loss: 0.1744 - val_accuracy: 0.9390\n",
      "Epoch 4/30\n",
      "250/250 [==============================] - 55s 220ms/step - loss: 0.0906 - accuracy: 0.9663 - val_loss: 0.1681 - val_accuracy: 0.9390\n",
      "Epoch 5/30\n",
      "250/250 [==============================] - 55s 219ms/step - loss: 0.0781 - accuracy: 0.9722 - val_loss: 0.1855 - val_accuracy: 0.9400\n",
      "Epoch 6/30\n",
      "250/250 [==============================] - 56s 223ms/step - loss: 0.0735 - accuracy: 0.9714 - val_loss: 0.2058 - val_accuracy: 0.9390\n",
      "Epoch 7/30\n",
      "250/250 [==============================] - 56s 225ms/step - loss: 0.0711 - accuracy: 0.9725 - val_loss: 0.2021 - val_accuracy: 0.9340\n",
      "Epoch 8/30\n",
      "250/250 [==============================] - 56s 223ms/step - loss: 0.0653 - accuracy: 0.9759 - val_loss: 0.2023 - val_accuracy: 0.9480\n",
      "Epoch 9/30\n",
      "250/250 [==============================] - 56s 225ms/step - loss: 0.0650 - accuracy: 0.9740 - val_loss: 0.2133 - val_accuracy: 0.9380\n"
     ]
    }
   ],
   "source": [
    "history = model.fit_generator(\n",
    "    datagen.flow(train_images, train_labels, batch_size=32),\n",
    "    steps_per_epoch=len(train_images) / 32,\n",
    "    epochs=30,\n",
    "    validation_data=(val_images, val_labels),\n",
    "    callbacks=[checkpoint, early_stopping]\n",
    ")"
   ]
  },
  {
   "cell_type": "code",
   "execution_count": 68,
   "metadata": {},
   "outputs": [],
   "source": [
    "model.save('male_model.h5')"
   ]
  },
  {
   "cell_type": "code",
   "execution_count": 45,
   "metadata": {},
   "outputs": [
    {
     "name": "stderr",
     "output_type": "stream",
     "text": [
      "WARNING:absl:At this time, the v2.11+ optimizer `tf.keras.optimizers.SGD` runs slowly on M1/M2 Macs, please use the legacy Keras optimizer instead, located at `tf.keras.optimizers.legacy.SGD`.\n"
     ]
    }
   ],
   "source": [
    "model = tf.keras.models.load_model('male_model.h5')"
   ]
  },
  {
   "cell_type": "code",
   "execution_count": 46,
   "metadata": {},
   "outputs": [
    {
     "name": "stdout",
     "output_type": "stream",
     "text": [
      "32/32 [==============================] - 4s 120ms/step\n"
     ]
    }
   ],
   "source": [
    "predictions = model.predict(test_images)"
   ]
  },
  {
   "cell_type": "code",
   "execution_count": 52,
   "metadata": {},
   "outputs": [
    {
     "name": "stdout",
     "output_type": "stream",
     "text": [
      "The Accuracy of the model on the test set is: 0.944\n"
     ]
    }
   ],
   "source": [
    "accuracy = accuracy_score(test_labels, predictions.round())\n",
    "\n",
    "print(\"The Accuracy of the model on the test set is: {}\".format(accuracy))"
   ]
  },
  {
   "cell_type": "markdown",
   "metadata": {},
   "source": [
    "## High cheekbones model"
   ]
  },
  {
   "cell_type": "markdown",
   "metadata": {},
   "source": [
    "This model classify the images based on the presence of high cheekbones or not. The model utilizes the MobileNetV2 architecture pre-trained on the ImageNet dataset. The distribution of the two classes is balanced.\n",
    "\n",
    "#### Transfer Learning with MobileNetV2\n",
    "The base of the model is MobileNetV2, a lightweight and efficient convolutional neural network (CNN). By leveraging the pre-trained weights from ImageNet, the model benefits from learned features that can be adapted to the high cheekbones classification task.\n",
    "\n",
    "#### Model Architecture\n",
    "The model architecture consists of the MobileNetV2 base followed by a global average pooling layer, a dense layer with ReLU activation, dropout regularization for generalization, and a final dense layer with a sigmoid activation function for binary classification.\n",
    "\n",
    "#### Data Augmentation\n",
    "To enhance model robustness and improve generalization, data augmentation techniques are applied during training. These include random rotation, width and height shifts, shear, zoom, and horizontal flipping.\n"
   ]
  },
  {
   "cell_type": "code",
   "execution_count": 53,
   "metadata": {},
   "outputs": [],
   "source": [
    "from keras.applications import MobileNetV2"
   ]
  },
  {
   "cell_type": "code",
   "execution_count": 54,
   "metadata": {},
   "outputs": [],
   "source": [
    "# Assuming df is your dataframe with labels\n",
    "labels = df\n",
    "features = ['High_Cheekbones']\n",
    "subset = labels[features + ['image_id']].sample(10000)"
   ]
  },
  {
   "cell_type": "code",
   "execution_count": 55,
   "metadata": {},
   "outputs": [
    {
     "data": {
      "text/html": [
       "<div>\n",
       "<style scoped>\n",
       "    .dataframe tbody tr th:only-of-type {\n",
       "        vertical-align: middle;\n",
       "    }\n",
       "\n",
       "    .dataframe tbody tr th {\n",
       "        vertical-align: top;\n",
       "    }\n",
       "\n",
       "    .dataframe thead th {\n",
       "        text-align: right;\n",
       "    }\n",
       "</style>\n",
       "<table border=\"1\" class=\"dataframe\">\n",
       "  <thead>\n",
       "    <tr style=\"text-align: right;\">\n",
       "      <th></th>\n",
       "      <th>image_id</th>\n",
       "      <th>High_Cheekbones</th>\n",
       "    </tr>\n",
       "  </thead>\n",
       "  <tbody>\n",
       "    <tr>\n",
       "      <th>69407</th>\n",
       "      <td>069408.jpg</td>\n",
       "      <td>0</td>\n",
       "    </tr>\n",
       "    <tr>\n",
       "      <th>186792</th>\n",
       "      <td>186793.jpg</td>\n",
       "      <td>0</td>\n",
       "    </tr>\n",
       "    <tr>\n",
       "      <th>93514</th>\n",
       "      <td>093515.jpg</td>\n",
       "      <td>1</td>\n",
       "    </tr>\n",
       "    <tr>\n",
       "      <th>83652</th>\n",
       "      <td>083653.jpg</td>\n",
       "      <td>0</td>\n",
       "    </tr>\n",
       "    <tr>\n",
       "      <th>181701</th>\n",
       "      <td>181702.jpg</td>\n",
       "      <td>0</td>\n",
       "    </tr>\n",
       "  </tbody>\n",
       "</table>\n",
       "</div>"
      ],
      "text/plain": [
       "          image_id  High_Cheekbones\n",
       "69407   069408.jpg                0\n",
       "186792  186793.jpg                0\n",
       "93514   093515.jpg                1\n",
       "83652   083653.jpg                0\n",
       "181701  181702.jpg                0"
      ]
     },
     "execution_count": 55,
     "metadata": {},
     "output_type": "execute_result"
    }
   ],
   "source": [
    "image_ids = subset['image_id']\n",
    "label_data = subset.drop('image_id', axis=1)\n",
    "\n",
    "# Convert labels from -1/1 to 0/1\n",
    "label_data = (label_data + 1) // 2\n",
    "\n",
    "# Reattach the image_id column\n",
    "processed_data = pd.concat([image_ids, label_data], axis=1)\n",
    "\n",
    "processed_data.head()\n"
   ]
  },
  {
   "cell_type": "code",
   "execution_count": 56,
   "metadata": {},
   "outputs": [
    {
     "data": {
      "text/plain": [
       "High_Cheekbones\n",
       "0    5443\n",
       "1    4557\n",
       "Name: count, dtype: int64"
      ]
     },
     "execution_count": 56,
     "metadata": {},
     "output_type": "execute_result"
    }
   ],
   "source": [
    "# count how many people have high cheekbones\n",
    "label_data['High_Cheekbones'].value_counts()"
   ]
  },
  {
   "cell_type": "code",
   "execution_count": 57,
   "metadata": {},
   "outputs": [],
   "source": [
    "def load_and_preprocess_image(target_size=(128, 128)):\n",
    "    images_data = list()\n",
    "    for idx in range(subset.shape[0]):\n",
    "        path = \"{}/{}\".format(str(images_data_path), str(subset.iloc[idx].image_id))\n",
    "        image = PIL.Image.open(path).resize(target_size)\n",
    "        image_array = np.asarray(image) / 255\n",
    "        images_data.append(image_array)\n",
    "    images_data = np.array(images_data)\n",
    "    return images_data"
   ]
  },
  {
   "cell_type": "code",
   "execution_count": 58,
   "metadata": {},
   "outputs": [],
   "source": [
    "images_data = load_and_preprocess_image()\n",
    "labels = processed_data.drop(['image_id'], axis=1)\n",
    "\n",
    "\n",
    "# Split the dataset\n",
    "train_images, test_images, train_labels, test_labels = train_test_split(\n",
    "    images_data, labels, test_size=0.2, random_state=42\n",
    ")\n",
    "\n",
    "# Split the test dataset into validation and test sets\n",
    "val_images, test_images, val_labels, test_labels = train_test_split(\n",
    "    test_images, test_labels, test_size=0.5, random_state=42\n",
    ")\n"
   ]
  },
  {
   "cell_type": "code",
   "execution_count": 213,
   "metadata": {},
   "outputs": [
    {
     "name": "stdout",
     "output_type": "stream",
     "text": [
      "Downloading data from https://storage.googleapis.com/tensorflow/keras-applications/mobilenet_v2/mobilenet_v2_weights_tf_dim_ordering_tf_kernels_1.0_128_no_top.h5\n",
      "9406464/9406464 [==============================] - 1s 0us/step\n"
     ]
    }
   ],
   "source": [
    "base_model = MobileNetV2(weights='imagenet', include_top=False, input_shape=(128, 128, 3))"
   ]
  },
  {
   "cell_type": "code",
   "execution_count": 225,
   "metadata": {},
   "outputs": [
    {
     "name": "stderr",
     "output_type": "stream",
     "text": [
      "WARNING:absl:At this time, the v2.11+ optimizer `tf.keras.optimizers.SGD` runs slowly on M1/M2 Macs, please use the legacy Keras optimizer instead, located at `tf.keras.optimizers.legacy.SGD`.\n",
      "WARNING:absl:`lr` is deprecated in Keras optimizer, please use `learning_rate` or use the legacy optimizer, e.g.,tf.keras.optimizers.legacy.SGD.\n"
     ]
    },
    {
     "name": "stdout",
     "output_type": "stream",
     "text": [
      "Epoch 1/30\n"
     ]
    },
    {
     "name": "stderr",
     "output_type": "stream",
     "text": [
      "/var/folders/9q/_dywz3t10_z2p9yqrdfk41b80000gr/T/ipykernel_73033/2417424179.py:32: UserWarning: `Model.fit_generator` is deprecated and will be removed in a future version. Please use `Model.fit`, which supports generators.\n",
      "  history = model.fit_generator(\n"
     ]
    },
    {
     "name": "stdout",
     "output_type": "stream",
     "text": [
      "250/250 [==============================] - 26s 96ms/step - loss: 0.2605 - accuracy: 0.8859 - val_loss: 0.4456 - val_accuracy: 0.8510\n",
      "Epoch 2/30\n"
     ]
    },
    {
     "name": "stderr",
     "output_type": "stream",
     "text": [
      "/Users/anpreit/anaconda3/envs/ag/lib/python3.10/site-packages/keras/src/engine/training.py:3103: UserWarning: You are saving your model as an HDF5 file via `model.save()`. This file format is considered legacy. We recommend using instead the native Keras format, e.g. `model.save('my_model.keras')`.\n",
      "  saving_api.save_model(\n"
     ]
    },
    {
     "name": "stdout",
     "output_type": "stream",
     "text": [
      "250/250 [==============================] - 23s 91ms/step - loss: 0.2341 - accuracy: 0.8966 - val_loss: 0.5520 - val_accuracy: 0.8430\n",
      "Epoch 3/30\n",
      "250/250 [==============================] - 23s 91ms/step - loss: 0.2208 - accuracy: 0.9031 - val_loss: 0.5812 - val_accuracy: 0.8370\n",
      "Epoch 4/30\n",
      "250/250 [==============================] - 23s 90ms/step - loss: 0.2116 - accuracy: 0.9169 - val_loss: 0.7814 - val_accuracy: 0.7980\n",
      "Epoch 5/30\n",
      "250/250 [==============================] - 22s 90ms/step - loss: 0.2099 - accuracy: 0.9137 - val_loss: 0.5121 - val_accuracy: 0.8360\n",
      "Epoch 6/30\n",
      "250/250 [==============================] - 23s 92ms/step - loss: 0.2045 - accuracy: 0.9156 - val_loss: 0.5385 - val_accuracy: 0.8330\n",
      "Epoch 7/30\n",
      "250/250 [==============================] - 22s 89ms/step - loss: 0.1947 - accuracy: 0.9209 - val_loss: 0.5350 - val_accuracy: 0.8270\n",
      "Epoch 8/30\n",
      "250/250 [==============================] - 23s 90ms/step - loss: 0.1910 - accuracy: 0.9200 - val_loss: 0.5317 - val_accuracy: 0.8390\n",
      "Epoch 9/30\n",
      "250/250 [==============================] - 23s 91ms/step - loss: 0.1806 - accuracy: 0.9212 - val_loss: 0.5965 - val_accuracy: 0.8450\n",
      "Epoch 10/30\n",
      "250/250 [==============================] - 23s 91ms/step - loss: 0.1733 - accuracy: 0.9295 - val_loss: 0.6158 - val_accuracy: 0.8420\n",
      "Epoch 11/30\n",
      "250/250 [==============================] - 23s 91ms/step - loss: 0.1666 - accuracy: 0.9309 - val_loss: 0.6146 - val_accuracy: 0.8520\n",
      "Epoch 12/30\n",
      "250/250 [==============================] - 22s 90ms/step - loss: 0.1718 - accuracy: 0.9331 - val_loss: 0.6327 - val_accuracy: 0.8300\n",
      "Epoch 13/30\n",
      "250/250 [==============================] - 23s 90ms/step - loss: 0.1630 - accuracy: 0.9365 - val_loss: 0.8440 - val_accuracy: 0.8190\n",
      "Epoch 14/30\n",
      "250/250 [==============================] - 23s 91ms/step - loss: 0.1534 - accuracy: 0.9383 - val_loss: 0.6063 - val_accuracy: 0.8320\n",
      "Epoch 15/30\n",
      "250/250 [==============================] - 22s 89ms/step - loss: 0.1570 - accuracy: 0.9391 - val_loss: 0.6434 - val_accuracy: 0.8460\n",
      "Epoch 16/30\n",
      "250/250 [==============================] - 23s 90ms/step - loss: 0.1506 - accuracy: 0.9385 - val_loss: 0.6216 - val_accuracy: 0.8390\n"
     ]
    }
   ],
   "source": [
    "model = Sequential()\n",
    "model.add(base_model)\n",
    "model.add(GlobalAveragePooling2D())\n",
    "model.add(Dense(128, activation='relu'))\n",
    "model.add(Dropout(0.5))\n",
    "model.add(Dense(1, activation='sigmoid'))\n",
    "\n",
    "# Compile the model\n",
    "model.compile(optimizer=SGD(lr=0.001), loss='binary_crossentropy', metrics=['accuracy'])\n",
    "\n",
    "# Create callbacks (optional but recommended)\n",
    "checkpoint = ModelCheckpoint('inceptionv3_model.h5', monitor='val_accuracy', save_best_only=True)\n",
    "early_stopping = EarlyStopping(monitor='val_loss', patience=15, restore_best_weights=True)\n",
    "\n",
    "\n",
    "datagen = ImageDataGenerator(\n",
    "    rotation_range=10,\n",
    "    width_shift_range=0.2,\n",
    "    height_shift_range=0.2,\n",
    "    shear_range=0.2,\n",
    "    zoom_range=0.3,\n",
    "    horizontal_flip=True,\n",
    "    fill_mode='nearest'\n",
    ")\n",
    "\n",
    "history = model.fit_generator(\n",
    "    datagen.flow(train_images, train_labels, batch_size=32),\n",
    "    steps_per_epoch=len(train_images) / 32,\n",
    "    epochs=30,\n",
    "    validation_data=(val_images, val_labels),\n",
    "    callbacks=[checkpoint, early_stopping]\n",
    ")"
   ]
  },
  {
   "cell_type": "code",
   "execution_count": 226,
   "metadata": {},
   "outputs": [],
   "source": [
    "model.save('cheekbone_model.h5')"
   ]
  },
  {
   "cell_type": "code",
   "execution_count": 59,
   "metadata": {},
   "outputs": [
    {
     "name": "stderr",
     "output_type": "stream",
     "text": [
      "WARNING:absl:At this time, the v2.11+ optimizer `tf.keras.optimizers.SGD` runs slowly on M1/M2 Macs, please use the legacy Keras optimizer instead, located at `tf.keras.optimizers.legacy.SGD`.\n"
     ]
    }
   ],
   "source": [
    "model = tf.keras.models.load_model('cheekbone_model.h5')"
   ]
  },
  {
   "cell_type": "code",
   "execution_count": 61,
   "metadata": {},
   "outputs": [
    {
     "name": "stdout",
     "output_type": "stream",
     "text": [
      "32/32 [==============================] - 2s 63ms/step\n"
     ]
    }
   ],
   "source": [
    "predictions = model.predict(test_images)\n",
    "accuracy = accuracy_score(test_labels, predictions.round())"
   ]
  },
  {
   "cell_type": "code",
   "execution_count": 62,
   "metadata": {},
   "outputs": [
    {
     "name": "stdout",
     "output_type": "stream",
     "text": [
      "The Accuracy of the model on the test set is: 0.852\n"
     ]
    }
   ],
   "source": [
    "print(\"The Accuracy of the model on the test set is: {}\".format(accuracy))"
   ]
  }
 ],
 "metadata": {
  "kernelspec": {
   "display_name": "base",
   "language": "python",
   "name": "python3"
  },
  "language_info": {
   "codemirror_mode": {
    "name": "ipython",
    "version": 3
   },
   "file_extension": ".py",
   "mimetype": "text/x-python",
   "name": "python",
   "nbconvert_exporter": "python",
   "pygments_lexer": "ipython3",
   "version": "3.10.12"
  },
  "orig_nbformat": 4
 },
 "nbformat": 4,
 "nbformat_minor": 2
}
